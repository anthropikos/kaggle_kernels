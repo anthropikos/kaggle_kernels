{
 "cells": [
  {
   "cell_type": "markdown",
   "metadata": {},
   "source": [
    "# Physiological or Pathological states?\n",
    "\n",
    "__An end-to-end deep-learning model to estimate probability of pathological state using local-field-potential recordings__\n",
    "Anthony Lee 2025-02-01\n",
    "\n",
    "## Abstract\n",
    "This project aims to utilize deep learning to extract local field potential (LFP) recording features. The data is composed\n",
    " \n",
    "\n",
    "## Introduction\n",
    "The brain encodes information in complex forms beyond frequency modulation (FM) and amplitude modulations (AM), however most of the common analyses techniques focus on these aspect, such as decomposing into the frequency spectra and calculate the mean power of certain frequence band. Details such as waveform sharpness, waveform asymmetry, or cross-frequency coupling (Rodriguez et al., 2023) are not captured when doing manual feature extractions such as the power spectral density (PSD) analysis. Thus, the goal is to attempt to capture these features via a deep learning model.\n",
    "\n",
    "This notebook thus creates a deep convolutional network with a fully connected classifier using LFP recordings sampled at 2048 Hz from patients with Essential Tremor. The data is labeled using motion captured by bipolar EMG sensors on the flexor carpi radialis (Rodriguez et al., 2023).\n",
    "\n",
    "(MAYBE)--->\n",
    "Contrast with an autoencoder or semisupervised encoder for latent dimension capturing\n",
    "<---(END)\n",
    "\n",
    "## Methods\n",
    "\n",
    "### About the data\n",
    "The data is collected and published in (He et al., 2021) investigating the effect of high-frequency thalamic stimulation as a therapy for patients with Essential Tremor, a movement disorder. The data were collected in repeated trials whilst the patient repeat a specified movement such as stationaly posture, reaching for a target, or moving pegs or a pegboard. A pathological state is labeled by \"thresholding [i.e., 0.25] the RMS power of the signal of interest\" as measured by the accelerometer or EMG signals (Rodriguez et al., 2023).\n",
    "\n",
    "To increase the number of data samples, a moving window of 1-second (equivalent to 2048 data points) is used to splice each recordings into overlapping segments of recordings. A mean is then taken of the respective window of label resulting in a value that is between 0 and 1 and thus can be interpreted as the likelihood or intensity of the pathological state. All the spliced data are then randomly split into a non-test/test sets with a split of 90/10. The non-test set is further randomly split into a train/validation sets with a split of 70/30. The test set is the holdout set that will not be introduced to the training model thus serving as the benchmark data.\n",
    "\n",
    "### Model selection and architecture\n",
    "Seven layers of one-dimensional (1D) convolutional-neural-network (CNN) is used as the feature extractor followed by a single layer fully-connected layer as the classifier. Each of the CNN layer is followed by a non-linear activation (i.e., SiLU) and a custom compressor layer that compresses the range of the data. The compressor layer design is based on (Rodriguez et al., 2023). The compressor layer has a learnable slope and bias parameter to accommodate for the wide range of LFP values; a 10x fold difference of LFP value range in milli-volt it not uncommon between individuals.\n",
    "\n",
    "### Hyperparameters\n",
    "\n",
    "###\n",
    "\n",
    "\n",
    "## Discussion\n",
    "\n",
    "## Conclusion\n",
    "\n",
    "## Next steps\n",
    "- Smaller models\n",
    "- Feature extractions\n",
    "\n",
    "\n",
    "## Reference\n",
    "Rodriguez, F., He, S., & Tan, H. (2023). The potential of convolutional neural networks for identifying neural states based on electrophysiological signals: Experiments on synthetic and real patient data. Frontiers in Human Neuroscience, 17, 1134599. https://doi.org/10.3389/fnhum.2023.1134599\n",
    "\n",
    "He, S., Baig, F., Mostofi, A., Pogosyan, A., Debarros, J., Green, A. L., Aziz, T. Z., Pereira, E., Brown, P., & Tan, H. (2021). Closed-Loop Deep Brain Stimulation for Essential Tremor Based on Thalamic Local Field Potentials. Movement Disorders, 36(4), 863–873. https://doi.org/10.1002/mds.28513\n",
    "\n"
   ]
  },
  {
   "cell_type": "markdown",
   "metadata": {},
   "source": []
  }
 ],
 "metadata": {
  "language_info": {
   "name": "python"
  }
 },
 "nbformat": 4,
 "nbformat_minor": 2
}
