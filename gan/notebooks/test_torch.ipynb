{
 "cells": [
  {
   "cell_type": "code",
   "execution_count": null,
   "metadata": {},
   "outputs": [
    {
     "name": "stdout",
     "output_type": "stream",
     "text": [
      "output.size(): torch.Size([1, 5, 128, 128])\n"
     ]
    }
   ],
   "source": [
    "# PyTorch example\n",
    "import torch\n",
    "\n",
    "device = torch.device(\"mps\") if torch.mps.is_available() else torch.device(\"cpu\")\n",
    "\n",
    "pipeline = torch.nn.Sequential()\n",
    "pipeline.append(\n",
    "    torch.nn.Conv2d(in_channels=3, out_channels=5, kernel_size=4, stride=2, padding=1)\n",
    ")\n",
    "\n",
    "input = torch.rand(size=(1, 3, 256, 256), dtype=torch.float32) * 100\n",
    "output = pipeline(input)\n",
    "\n",
    "print(f\"output.size(): {output.size()}\")"
   ]
  },
  {
   "cell_type": "code",
   "execution_count": 14,
   "metadata": {},
   "outputs": [
    {
     "name": "stdout",
     "output_type": "stream",
     "text": [
      "output.shape: (1, 128, 128, 3)\n"
     ]
    }
   ],
   "source": [
    "import tensorflow as tf\n",
    "\n",
    "pipeline = tf.keras.Sequential()\n",
    "pipeline.add(\n",
    "    tf.keras.layers.ZeroPadding2D(padding=1)\n",
    ")\n",
    "pipeline.add(\n",
    "    tf.keras.layers.Conv2D(filters=3, kernel_size=4, strides=2)\n",
    ")\n",
    "\n",
    "input = tf.random.normal(shape=(1, 256, 256, 3))  # NHWC\n",
    "output = pipeline(input)\n",
    "\n",
    "print(f\"output.shape: {output.shape}\")"
   ]
  },
  {
   "cell_type": "code",
   "execution_count": 2,
   "metadata": {},
   "outputs": [
    {
     "data": {
      "text/plain": [
       "2"
      ]
     },
     "execution_count": 2,
     "metadata": {},
     "output_type": "execute_result"
    }
   ],
   "source": [
    "import torch\n",
    "from torch import nn\n",
    "\n",
    "layer = nn.Conv2d(3, 2, 4)\n",
    "layer.out_channels"
   ]
  },
  {
   "cell_type": "code",
   "execution_count": 1,
   "metadata": {},
   "outputs": [],
   "source": [
    "from gan.generator import Generator\n",
    "from gan.upsampler import Upsampler\n",
    "from gan.downsampler import Downsampler\n",
    "import torch\n",
    "\n",
    "\n",
    "input_dim = (10, 3, 256, 256)\n",
    "input = torch.randint(255, size=input_dim, dtype=torch.float32)\n",
    "layer = Generator()\n",
    "# layer = Downsampler(5)\n",
    "output = layer(input)"
   ]
  },
  {
   "cell_type": "code",
   "execution_count": null,
   "metadata": {},
   "outputs": [],
   "source": []
  }
 ],
 "metadata": {
  "kernelspec": {
   "display_name": "torch-mps",
   "language": "python",
   "name": "python3"
  },
  "language_info": {
   "codemirror_mode": {
    "name": "ipython",
    "version": 3
   },
   "file_extension": ".py",
   "mimetype": "text/x-python",
   "name": "python",
   "nbconvert_exporter": "python",
   "pygments_lexer": "ipython3",
   "version": "3.13.1"
  }
 },
 "nbformat": 4,
 "nbformat_minor": 2
}
