{
 "cells": [
  {
   "cell_type": "markdown",
   "metadata": {},
   "source": [
    "# Model v5\n",
    "Anthony Lee 2025-01-03\n",
    "\n",
    "- Reapply the instance norm if-else and replicated the generator layer count. Perhaps the layer count also has more effect that I thought because of the generator output size."
   ]
  },
  {
   "cell_type": "code",
   "execution_count": 1,
   "metadata": {},
   "outputs": [],
   "source": [
    "# import numpy as np\n",
    "# idx = np.random.randint(0, 300, 1).item()\n",
    "\n",
    "# # Photo to monet\n",
    "# input = photo_dataset[idx].to(device=device)\n",
    "# output = model.generate_monet(input)  # Need to move to CPU?\n",
    "# output = map_tanh_to_rgb(output)\n",
    "# fig1 = plot_before_after(input, output, suptitle=f\"Epoch {idx_epoch}: Photo -> Monet\")\n",
    "# fig1.show()\n",
    "\n",
    "# input = monet_dataset[idx].to(device=device)\n",
    "# output = model.generate_photo(input) # Need to move to CPU?\n",
    "# output = map_tanh_to_rgb(output)\n",
    "# fig2 = plot_before_after(input, output, suptitle=f\"Epoch {idx_epoch}: Monet -> Photo\")\n",
    "# fig2.show()"
   ]
  },
  {
   "cell_type": "code",
   "execution_count": 2,
   "metadata": {},
   "outputs": [],
   "source": [
    "# from gan.gan import CycleGAN, train_one_epoch, checkpoint_save\n",
    "# from gan.data import ImageDataset, ImageDataLoader\n",
    "# import torch\n",
    "# from pprint import pprint\n",
    "# from gan.plotting_utility import plot_before_after\n",
    "# from gan.data_processing import map_tanh_to_rgb\n",
    "\n",
    "# device = torch.device(\"cuda\") if torch.cuda.is_available() else torch.device(\"cpu\")\n",
    "# print( torch.cuda.get_device_properties(device) )\n",
    "\n",
    "\n",
    "# monet_dataset = ImageDataset(data_dir=\"../data/gan-getting-started/monet_jpg\")\n",
    "# photo_dataset = ImageDataset(data_dir=\"../data/gan-getting-started/photo_jpg\")\n",
    "\n",
    "# monet_dataloader = ImageDataLoader(monet_dataset)\n",
    "# photo_dataloader = ImageDataLoader(photo_dataset)\n"
   ]
  },
  {
   "cell_type": "code",
   "execution_count": 3,
   "metadata": {},
   "outputs": [],
   "source": [
    "# model = CycleGAN()\n",
    "# optimizer = torch.optim.Adam(model.parameters(), lr=2e-4, betas=(0.5, 0.999))\n",
    "# epoch_count = 20\n",
    "# for idx_epoch in range(epoch_count):\n",
    "\n",
    "#     loss_tracker = train_one_epoch(monet_dataloader=monet_dataloader, \n",
    "#                     photo_dataloader=photo_dataloader,\n",
    "#                     optimizer=optimizer,\n",
    "#                     model=model, \n",
    "#                     device=device)\n",
    "    \n",
    "#     ## Plot an example image\n",
    "#     idx = 20\n",
    "\n",
    "#     # Photo to monet\n",
    "#     input = photo_dataset[idx].to(device=device)\n",
    "#     output = model.generate_monet(input)  # Need to move to CPU?\n",
    "#     output = map_tanh_to_rgb(output)\n",
    "#     fig1 = plot_before_after(input, output, suptitle=f\"Epoch {idx_epoch}: Photo -> Monet\")\n",
    "#     # fig1.show()\n",
    "\n",
    "#     # Monet to photo\n",
    "#     input = monet_dataset[idx].to(device=device)\n",
    "#     output = model.generate_photo(input) # Need to move to CPU?\n",
    "#     output = map_tanh_to_rgb(output)\n",
    "#     fig2 = plot_before_after(input, output, suptitle=f\"Epoch {idx_epoch}: Monet -> Photo\")\n",
    "#     # fig2.show()\n",
    "\n",
    "#     ## Checkpoint\n",
    "#     if idx_epoch % 5 == 0:\n",
    "#         fig1.savefig(f\"./epoch_{idx_epoch}_fake_monet.jpg\")\n",
    "#         fig2.savefig(f\"./epoch_{idx_epoch}_fake_photo.jpg\")\n",
    "#         _ = checkpoint_save(epoch=idx_epoch, \n",
    "#                     save_path=\".\", \n",
    "#                     model=model,\n",
    "#                     optimizer=optimizer,\n",
    "#                     loss_tracker=loss_tracker)\n",
    "    "
   ]
  },
  {
   "cell_type": "code",
   "execution_count": 4,
   "metadata": {},
   "outputs": [
    {
     "name": "stdout",
     "output_type": "stream",
     "text": [
      "_CudaDeviceProperties(name='NVIDIA GeForce RTX 3070', major=8, minor=6, total_memory=8191MB, multi_processor_count=46, uuid=0e2d35a6-9344-fc39-0a99-bd4343293f22, L2_cache_size=4MB)\n"
     ]
    },
    {
     "name": "stderr",
     "output_type": "stream",
     "text": [
      "Training...: 0batch [00:00, ?batch/s]"
     ]
    },
    {
     "name": "stdout",
     "output_type": "stream",
     "text": [
      "Backprop 1\n"
     ]
    },
    {
     "name": "stderr",
     "output_type": "stream",
     "text": [
      "Training...: 0batch [00:00, ?batch/s]"
     ]
    },
    {
     "name": "stdout",
     "output_type": "stream",
     "text": [
      "Backprop 2\n"
     ]
    },
    {
     "name": "stderr",
     "output_type": "stream",
     "text": [
      "\n"
     ]
    },
    {
     "ename": "RuntimeError",
     "evalue": "one of the variables needed for gradient computation has been modified by an inplace operation: [torch.cuda.FloatTensor [128, 3, 4, 4]] is at version 2; expected version 1 instead. Hint: enable anomaly detection to find the operation that failed to compute its gradient, with torch.autograd.set_detect_anomaly(True).",
     "output_type": "error",
     "traceback": [
      "\u001b[0;31m---------------------------------------------------------------------------\u001b[0m",
      "\u001b[0;31mRuntimeError\u001b[0m                              Traceback (most recent call last)",
      "Cell \u001b[0;32mIn[4], line 3\u001b[0m\n\u001b[1;32m      1\u001b[0m \u001b[38;5;28;01mfrom\u001b[39;00m \u001b[38;5;21;01mgan\u001b[39;00m\u001b[38;5;21;01m.\u001b[39;00m\u001b[38;5;21;01mgan\u001b[39;00m \u001b[38;5;28;01mimport\u001b[39;00m training_loop\n\u001b[0;32m----> 3\u001b[0m model \u001b[38;5;241m=\u001b[39m \u001b[43mtraining_loop\u001b[49m\u001b[43m(\u001b[49m\n\u001b[1;32m      4\u001b[0m \u001b[43m    \u001b[49m\u001b[43mmonet_data_dir\u001b[49m\u001b[38;5;241;43m=\u001b[39;49m\u001b[38;5;124;43m\"\u001b[39;49m\u001b[38;5;124;43m../data/gan-getting-started/monet_jpg\u001b[39;49m\u001b[38;5;124;43m\"\u001b[39;49m\u001b[43m,\u001b[49m\n\u001b[1;32m      5\u001b[0m \u001b[43m    \u001b[49m\u001b[43mphoto_data_dir\u001b[49m\u001b[38;5;241;43m=\u001b[39;49m\u001b[38;5;124;43m\"\u001b[39;49m\u001b[38;5;124;43m../data/gan-getting-started/photo_jpg\u001b[39;49m\u001b[38;5;124;43m\"\u001b[39;49m\u001b[43m,\u001b[49m\n\u001b[1;32m      6\u001b[0m \u001b[43m    \u001b[49m\u001b[43mepochs\u001b[49m\u001b[38;5;241;43m=\u001b[39;49m\u001b[38;5;241;43m10\u001b[39;49m\u001b[43m,\u001b[49m\n\u001b[1;32m      7\u001b[0m \u001b[43m    \u001b[49m\u001b[43msave_checkpoint\u001b[49m\u001b[38;5;241;43m=\u001b[39;49m\u001b[38;5;28;43;01mFalse\u001b[39;49;00m\u001b[43m,\u001b[49m\n\u001b[1;32m      8\u001b[0m \u001b[43m    \u001b[49m\u001b[43mcheckpoint_data_dir\u001b[49m\u001b[38;5;241;43m=\u001b[39;49m\u001b[38;5;28;43;01mNone\u001b[39;49;00m\u001b[43m,\u001b[49m\n\u001b[1;32m      9\u001b[0m \u001b[43m    \u001b[49m\u001b[43m)\u001b[49m\n",
      "File \u001b[0;32m~/github/kaggle_kernels/gan/src/gan/gan.py:293\u001b[0m, in \u001b[0;36mtraining_loop\u001b[0;34m(monet_data_dir, photo_data_dir, epochs, save_checkpoint, checkpoint_data_dir)\u001b[0m\n\u001b[1;32m    291\u001b[0m \u001b[38;5;66;03m## Train through the epochs\u001b[39;00m\n\u001b[1;32m    292\u001b[0m \u001b[38;5;28;01mfor\u001b[39;00m idx_epoch \u001b[38;5;129;01min\u001b[39;00m \u001b[38;5;28mrange\u001b[39m(epochs):\n\u001b[0;32m--> 293\u001b[0m     loss_tracker \u001b[38;5;241m=\u001b[39m \u001b[43mtrain_one_epoch\u001b[49m\u001b[43m(\u001b[49m\n\u001b[1;32m    294\u001b[0m \u001b[43m        \u001b[49m\u001b[43mmonet_dataloader\u001b[49m\u001b[38;5;241;43m=\u001b[39;49m\u001b[43mmonet_dataloader\u001b[49m\u001b[43m,\u001b[49m\u001b[43m \u001b[49m\n\u001b[1;32m    295\u001b[0m \u001b[43m        \u001b[49m\u001b[43mphoto_dataloader\u001b[49m\u001b[38;5;241;43m=\u001b[39;49m\u001b[43mphoto_dataloader\u001b[49m\u001b[43m,\u001b[49m\n\u001b[1;32m    296\u001b[0m \u001b[43m        \u001b[49m\u001b[43mmodel\u001b[49m\u001b[38;5;241;43m=\u001b[39;49m\u001b[43mmodel\u001b[49m\u001b[43m,\u001b[49m\n\u001b[1;32m    297\u001b[0m \u001b[43m        \u001b[49m\u001b[43mmonet_gen_optim\u001b[49m\u001b[38;5;241;43m=\u001b[39;49m\u001b[43mmonet_gen_optim\u001b[49m\u001b[43m,\u001b[49m\u001b[43m \u001b[49m\n\u001b[1;32m    298\u001b[0m \u001b[43m        \u001b[49m\u001b[43mphoto_gen_optim\u001b[49m\u001b[38;5;241;43m=\u001b[39;49m\u001b[43mphoto_gen_optim\u001b[49m\u001b[43m,\u001b[49m\n\u001b[1;32m    299\u001b[0m \u001b[43m        \u001b[49m\u001b[43mmonet_dis_optim\u001b[49m\u001b[38;5;241;43m=\u001b[39;49m\u001b[43mmonet_dis_optim\u001b[49m\u001b[43m,\u001b[49m\n\u001b[1;32m    300\u001b[0m \u001b[43m        \u001b[49m\u001b[43mphoto_dis_optim\u001b[49m\u001b[38;5;241;43m=\u001b[39;49m\u001b[43mphoto_dis_optim\u001b[49m\u001b[43m,\u001b[49m\n\u001b[1;32m    301\u001b[0m \u001b[43m        \u001b[49m\u001b[43mdevice\u001b[49m\u001b[38;5;241;43m=\u001b[39;49m\u001b[43mdevice\u001b[49m\n\u001b[1;32m    302\u001b[0m \u001b[43m    \u001b[49m\u001b[43m)\u001b[49m\n\u001b[1;32m    304\u001b[0m     \u001b[38;5;28;01mif\u001b[39;00m save_checkpoint \u001b[38;5;241m&\u001b[39m idx_epoch\u001b[38;5;241m%\u001b[39m\u001b[38;5;241m2\u001b[39m\u001b[38;5;241m==\u001b[39m\u001b[38;5;241m0\u001b[39m:\n\u001b[1;32m    305\u001b[0m         _ \u001b[38;5;241m=\u001b[39m checkpoint_save(\n\u001b[1;32m    306\u001b[0m             epoch\u001b[38;5;241m=\u001b[39midx_epoch, \n\u001b[1;32m    307\u001b[0m             save_path\u001b[38;5;241m=\u001b[39mcheckpoint_data_dir, \n\u001b[0;32m   (...)\u001b[0m\n\u001b[1;32m    313\u001b[0m             loss_tracker\u001b[38;5;241m=\u001b[39mloss_tracker,\n\u001b[1;32m    314\u001b[0m             )\n",
      "File \u001b[0;32m~/github/kaggle_kernels/gan/src/gan/gan.py:177\u001b[0m, in \u001b[0;36mtrain_one_epoch\u001b[0;34m(monet_dataloader, photo_dataloader, model, monet_gen_optim, photo_gen_optim, monet_dis_optim, photo_dis_optim, device)\u001b[0m\n\u001b[1;32m    171\u001b[0m \u001b[38;5;66;03m# Train the model one batch at a time\u001b[39;00m\n\u001b[1;32m    172\u001b[0m \u001b[38;5;28;01mfor\u001b[39;00m idx_batch, (real_monet_batch, real_photo_batch) \u001b[38;5;129;01min\u001b[39;00m tqdm(\u001b[38;5;28menumerate\u001b[39m(\u001b[38;5;28mzip\u001b[39m(monet_dataloader, photo_dataloader)), desc\u001b[38;5;241m=\u001b[39m\u001b[38;5;124m\"\u001b[39m\u001b[38;5;124mTraining...\u001b[39m\u001b[38;5;124m\"\u001b[39m, unit\u001b[38;5;241m=\u001b[39m\u001b[38;5;124m\"\u001b[39m\u001b[38;5;124mbatch\u001b[39m\u001b[38;5;124m\"\u001b[39m):\n\u001b[1;32m    173\u001b[0m     \n\u001b[1;32m    174\u001b[0m     \u001b[38;5;66;03m# print(f\"Training {idx_batch}-th batch...\")\u001b[39;00m\n\u001b[1;32m    175\u001b[0m \n\u001b[1;32m    176\u001b[0m     \u001b[38;5;66;03m# Forward pass and get loss dict\u001b[39;00m\n\u001b[0;32m--> 177\u001b[0m     loss_dict \u001b[38;5;241m=\u001b[39m \u001b[43mtrain_one_batch\u001b[49m\u001b[43m(\u001b[49m\n\u001b[1;32m    178\u001b[0m \u001b[43m        \u001b[49m\u001b[43mreal_monet_batch\u001b[49m\u001b[38;5;241;43m=\u001b[39;49m\u001b[43mreal_monet_batch\u001b[49m\u001b[43m,\u001b[49m\u001b[43m \u001b[49m\n\u001b[1;32m    179\u001b[0m \u001b[43m        \u001b[49m\u001b[43mreal_photo_batch\u001b[49m\u001b[38;5;241;43m=\u001b[39;49m\u001b[43mreal_photo_batch\u001b[49m\u001b[43m,\u001b[49m\n\u001b[1;32m    180\u001b[0m \u001b[43m        \u001b[49m\u001b[43mmodel\u001b[49m\u001b[43m \u001b[49m\u001b[38;5;241;43m=\u001b[39;49m\u001b[43m \u001b[49m\u001b[43mmodel\u001b[49m\u001b[43m,\u001b[49m\n\u001b[1;32m    181\u001b[0m \u001b[43m        \u001b[49m\u001b[43mmonet_gen_optim\u001b[49m\u001b[38;5;241;43m=\u001b[39;49m\u001b[43mmonet_gen_optim\u001b[49m\u001b[43m,\u001b[49m\n\u001b[1;32m    182\u001b[0m \u001b[43m        \u001b[49m\u001b[43mphoto_gen_optim\u001b[49m\u001b[38;5;241;43m=\u001b[39;49m\u001b[43mphoto_gen_optim\u001b[49m\u001b[43m,\u001b[49m\n\u001b[1;32m    183\u001b[0m \u001b[43m        \u001b[49m\u001b[43mmonet_dis_optim\u001b[49m\u001b[38;5;241;43m=\u001b[39;49m\u001b[43mmonet_dis_optim\u001b[49m\u001b[43m,\u001b[49m\n\u001b[1;32m    184\u001b[0m \u001b[43m        \u001b[49m\u001b[43mphoto_dis_optim\u001b[49m\u001b[38;5;241;43m=\u001b[39;49m\u001b[43mphoto_dis_optim\u001b[49m\u001b[43m,\u001b[49m\n\u001b[1;32m    185\u001b[0m \u001b[43m        \u001b[49m\u001b[43mdevice\u001b[49m\u001b[38;5;241;43m=\u001b[39;49m\u001b[43mdevice\u001b[49m\u001b[43m)\u001b[49m\n\u001b[1;32m    187\u001b[0m     \u001b[38;5;66;03m# Update loss tracker - Make sure to not accumulate history\u001b[39;00m\n\u001b[1;32m    188\u001b[0m     \u001b[38;5;66;03m# https://pytorch.org/docs/stable/notes/faq.html\u001b[39;00m\n\u001b[1;32m    189\u001b[0m     \u001b[38;5;28;01mfor\u001b[39;00m key \u001b[38;5;129;01min\u001b[39;00m loss_dict:\n",
      "File \u001b[0;32m~/github/kaggle_kernels/gan/src/gan/gan.py:231\u001b[0m, in \u001b[0;36mtrain_one_batch\u001b[0;34m(real_monet_batch, real_photo_batch, model, monet_gen_optim, photo_gen_optim, monet_dis_optim, photo_dis_optim, device)\u001b[0m\n\u001b[1;32m    229\u001b[0m optimizer \u001b[38;5;241m=\u001b[39m photo_gen_optim\n\u001b[1;32m    230\u001b[0m optimizer\u001b[38;5;241m.\u001b[39mzero_grad()\n\u001b[0;32m--> 231\u001b[0m \u001b[43mloss\u001b[49m\u001b[38;5;241;43m.\u001b[39;49m\u001b[43mbackward\u001b[49m\u001b[43m(\u001b[49m\u001b[43mretain_graph\u001b[49m\u001b[38;5;241;43m=\u001b[39;49m\u001b[38;5;28;43;01mTrue\u001b[39;49;00m\u001b[43m)\u001b[49m\n\u001b[1;32m    232\u001b[0m optimizer\u001b[38;5;241m.\u001b[39mstep()\n\u001b[1;32m    234\u001b[0m \u001b[38;5;66;03m# Backprop: Monet dis\u001b[39;00m\n",
      "File \u001b[0;32m~/miniconda3/envs/torch_cuda/lib/python3.13/site-packages/torch/_tensor.py:581\u001b[0m, in \u001b[0;36mTensor.backward\u001b[0;34m(self, gradient, retain_graph, create_graph, inputs)\u001b[0m\n\u001b[1;32m    571\u001b[0m \u001b[38;5;28;01mif\u001b[39;00m has_torch_function_unary(\u001b[38;5;28mself\u001b[39m):\n\u001b[1;32m    572\u001b[0m     \u001b[38;5;28;01mreturn\u001b[39;00m handle_torch_function(\n\u001b[1;32m    573\u001b[0m         Tensor\u001b[38;5;241m.\u001b[39mbackward,\n\u001b[1;32m    574\u001b[0m         (\u001b[38;5;28mself\u001b[39m,),\n\u001b[0;32m   (...)\u001b[0m\n\u001b[1;32m    579\u001b[0m         inputs\u001b[38;5;241m=\u001b[39minputs,\n\u001b[1;32m    580\u001b[0m     )\n\u001b[0;32m--> 581\u001b[0m \u001b[43mtorch\u001b[49m\u001b[38;5;241;43m.\u001b[39;49m\u001b[43mautograd\u001b[49m\u001b[38;5;241;43m.\u001b[39;49m\u001b[43mbackward\u001b[49m\u001b[43m(\u001b[49m\n\u001b[1;32m    582\u001b[0m \u001b[43m    \u001b[49m\u001b[38;5;28;43mself\u001b[39;49m\u001b[43m,\u001b[49m\u001b[43m \u001b[49m\u001b[43mgradient\u001b[49m\u001b[43m,\u001b[49m\u001b[43m \u001b[49m\u001b[43mretain_graph\u001b[49m\u001b[43m,\u001b[49m\u001b[43m \u001b[49m\u001b[43mcreate_graph\u001b[49m\u001b[43m,\u001b[49m\u001b[43m \u001b[49m\u001b[43minputs\u001b[49m\u001b[38;5;241;43m=\u001b[39;49m\u001b[43minputs\u001b[49m\n\u001b[1;32m    583\u001b[0m \u001b[43m\u001b[49m\u001b[43m)\u001b[49m\n",
      "File \u001b[0;32m~/miniconda3/envs/torch_cuda/lib/python3.13/site-packages/torch/autograd/__init__.py:347\u001b[0m, in \u001b[0;36mbackward\u001b[0;34m(tensors, grad_tensors, retain_graph, create_graph, grad_variables, inputs)\u001b[0m\n\u001b[1;32m    342\u001b[0m     retain_graph \u001b[38;5;241m=\u001b[39m create_graph\n\u001b[1;32m    344\u001b[0m \u001b[38;5;66;03m# The reason we repeat the same comment below is that\u001b[39;00m\n\u001b[1;32m    345\u001b[0m \u001b[38;5;66;03m# some Python versions print out the first line of a multi-line function\u001b[39;00m\n\u001b[1;32m    346\u001b[0m \u001b[38;5;66;03m# calls in the traceback and some print out the last line\u001b[39;00m\n\u001b[0;32m--> 347\u001b[0m \u001b[43m_engine_run_backward\u001b[49m\u001b[43m(\u001b[49m\n\u001b[1;32m    348\u001b[0m \u001b[43m    \u001b[49m\u001b[43mtensors\u001b[49m\u001b[43m,\u001b[49m\n\u001b[1;32m    349\u001b[0m \u001b[43m    \u001b[49m\u001b[43mgrad_tensors_\u001b[49m\u001b[43m,\u001b[49m\n\u001b[1;32m    350\u001b[0m \u001b[43m    \u001b[49m\u001b[43mretain_graph\u001b[49m\u001b[43m,\u001b[49m\n\u001b[1;32m    351\u001b[0m \u001b[43m    \u001b[49m\u001b[43mcreate_graph\u001b[49m\u001b[43m,\u001b[49m\n\u001b[1;32m    352\u001b[0m \u001b[43m    \u001b[49m\u001b[43minputs\u001b[49m\u001b[43m,\u001b[49m\n\u001b[1;32m    353\u001b[0m \u001b[43m    \u001b[49m\u001b[43mallow_unreachable\u001b[49m\u001b[38;5;241;43m=\u001b[39;49m\u001b[38;5;28;43;01mTrue\u001b[39;49;00m\u001b[43m,\u001b[49m\n\u001b[1;32m    354\u001b[0m \u001b[43m    \u001b[49m\u001b[43maccumulate_grad\u001b[49m\u001b[38;5;241;43m=\u001b[39;49m\u001b[38;5;28;43;01mTrue\u001b[39;49;00m\u001b[43m,\u001b[49m\n\u001b[1;32m    355\u001b[0m \u001b[43m\u001b[49m\u001b[43m)\u001b[49m\n",
      "File \u001b[0;32m~/miniconda3/envs/torch_cuda/lib/python3.13/site-packages/torch/autograd/graph.py:825\u001b[0m, in \u001b[0;36m_engine_run_backward\u001b[0;34m(t_outputs, *args, **kwargs)\u001b[0m\n\u001b[1;32m    823\u001b[0m     unregister_hooks \u001b[38;5;241m=\u001b[39m _register_logging_hooks_on_whole_graph(t_outputs)\n\u001b[1;32m    824\u001b[0m \u001b[38;5;28;01mtry\u001b[39;00m:\n\u001b[0;32m--> 825\u001b[0m     \u001b[38;5;28;01mreturn\u001b[39;00m \u001b[43mVariable\u001b[49m\u001b[38;5;241;43m.\u001b[39;49m\u001b[43m_execution_engine\u001b[49m\u001b[38;5;241;43m.\u001b[39;49m\u001b[43mrun_backward\u001b[49m\u001b[43m(\u001b[49m\u001b[43m  \u001b[49m\u001b[38;5;66;43;03m# Calls into the C++ engine to run the backward pass\u001b[39;49;00m\n\u001b[1;32m    826\u001b[0m \u001b[43m        \u001b[49m\u001b[43mt_outputs\u001b[49m\u001b[43m,\u001b[49m\u001b[43m \u001b[49m\u001b[38;5;241;43m*\u001b[39;49m\u001b[43margs\u001b[49m\u001b[43m,\u001b[49m\u001b[43m \u001b[49m\u001b[38;5;241;43m*\u001b[39;49m\u001b[38;5;241;43m*\u001b[39;49m\u001b[43mkwargs\u001b[49m\n\u001b[1;32m    827\u001b[0m \u001b[43m    \u001b[49m\u001b[43m)\u001b[49m  \u001b[38;5;66;03m# Calls into the C++ engine to run the backward pass\u001b[39;00m\n\u001b[1;32m    828\u001b[0m \u001b[38;5;28;01mfinally\u001b[39;00m:\n\u001b[1;32m    829\u001b[0m     \u001b[38;5;28;01mif\u001b[39;00m attach_logging_hooks:\n",
      "\u001b[0;31mRuntimeError\u001b[0m: one of the variables needed for gradient computation has been modified by an inplace operation: [torch.cuda.FloatTensor [128, 3, 4, 4]] is at version 2; expected version 1 instead. Hint: enable anomaly detection to find the operation that failed to compute its gradient, with torch.autograd.set_detect_anomaly(True)."
     ]
    }
   ],
   "source": [
    "from gan.gan import training_loop\n",
    "\n",
    "model = training_loop(\n",
    "    monet_data_dir=\"../data/gan-getting-started/monet_jpg\",\n",
    "    photo_data_dir=\"../data/gan-getting-started/photo_jpg\",\n",
    "    epochs=10,\n",
    "    save_checkpoint=False,\n",
    "    checkpoint_data_dir=None,\n",
    "    )\n"
   ]
  }
 ],
 "metadata": {
  "kernelspec": {
   "display_name": "torch_cuda",
   "language": "python",
   "name": "python3"
  },
  "language_info": {
   "codemirror_mode": {
    "name": "ipython",
    "version": 3
   },
   "file_extension": ".py",
   "mimetype": "text/x-python",
   "name": "python",
   "nbconvert_exporter": "python",
   "pygments_lexer": "ipython3",
   "version": "3.13.1"
  }
 },
 "nbformat": 4,
 "nbformat_minor": 2
}
