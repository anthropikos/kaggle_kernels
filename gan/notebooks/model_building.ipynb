{
 "cells": [
  {
   "cell_type": "code",
   "execution_count": 1,
   "metadata": {},
   "outputs": [
    {
     "name": "stdout",
     "output_type": "stream",
     "text": [
      "_CudaDeviceProperties(name='NVIDIA GeForce RTX 3070', major=8, minor=6, total_memory=8191MB, multi_processor_count=46, uuid=0e2d35a6-9344-fc39-0a99-bd4343293f22, L2_cache_size=4MB)\n"
     ]
    }
   ],
   "source": [
    "from gan.gan import CycleGAN, train_one_epoch\n",
    "from gan.data import ImageDataset, ImageDataLoader\n",
    "import torch\n",
    "from pprint import pprint\n",
    "\n",
    "device = torch.device(\"cuda\") if torch.cuda.is_available() else torch.device(\"cpu\")\n",
    "print( torch.cuda.get_device_properties(device) )\n",
    "\n",
    "\n",
    "monet_dataset = ImageDataset(data_dir=\"../data/gan-getting-started/monet_jpg\")\n",
    "photo_dataset = ImageDataset(data_dir=\"../data/gan-getting-started/photo_jpg\")\n",
    "\n",
    "monet_dataloader = ImageDataLoader(monet_dataset)\n",
    "photo_dataloader = ImageDataLoader(photo_dataset)\n"
   ]
  },
  {
   "cell_type": "code",
   "execution_count": 2,
   "metadata": {},
   "outputs": [
    {
     "name": "stdout",
     "output_type": "stream",
     "text": [
      "Training 0-th batch...\n",
      "Training 1-th batch...\n",
      "Training 2-th batch...\n",
      "Training 3-th batch...\n",
      "Training 4-th batch...\n",
      "Training 5-th batch...\n",
      "Training 6-th batch...\n",
      "Training 7-th batch...\n",
      "Training 8-th batch...\n",
      "Training 9-th batch...\n",
      "Training 10-th batch...\n",
      "Training 11-th batch...\n",
      "Training 12-th batch...\n",
      "Training 13-th batch...\n",
      "Training 14-th batch...\n",
      "Training 15-th batch...\n",
      "Training 16-th batch...\n",
      "Training 17-th batch...\n",
      "Training 18-th batch...\n",
      "Training 19-th batch...\n",
      "Training 20-th batch...\n",
      "Training 21-th batch...\n",
      "Training 22-th batch...\n",
      "Training 23-th batch...\n",
      "Training 24-th batch...\n",
      "Training 25-th batch...\n",
      "Training 26-th batch...\n",
      "Training 27-th batch...\n",
      "Training 28-th batch...\n",
      "Training 29-th batch...\n"
     ]
    },
    {
     "data": {
      "text/plain": [
       "{'loss_tracker': {'monet_gen_loss_epoch_sum': 143255.84228515625,\n",
       "  'photo_gen_loss_epoch_sum': 143524.62841796875,\n",
       "  'monet_disc_loss_epoch_sum': 191984.546875,\n",
       "  'photo_disc_loss_epoch_sum': 191802.6611328125},\n",
       " 'num_batches': 30}"
      ]
     },
     "execution_count": 2,
     "metadata": {},
     "output_type": "execute_result"
    }
   ],
   "source": [
    "train_one_epoch(monet_dataloader, photo_dataloader, model=CycleGAN(), device=device)"
   ]
  },
  {
   "cell_type": "code",
   "execution_count": 13,
   "metadata": {},
   "outputs": [
    {
     "data": {
      "text/plain": [
       "_CudaDeviceProperties(name='NVIDIA GeForce RTX 3070', major=8, minor=6, total_memory=8191MB, multi_processor_count=46, uuid=0e2d35a6-9344-fc39-0a99-bd4343293f22, L2_cache_size=4MB)"
      ]
     },
     "execution_count": 13,
     "metadata": {},
     "output_type": "execute_result"
    }
   ],
   "source": [
    "\n"
   ]
  }
 ],
 "metadata": {
  "kernelspec": {
   "display_name": "torch-cuda",
   "language": "python",
   "name": "python3"
  },
  "language_info": {
   "codemirror_mode": {
    "name": "ipython",
    "version": 3
   },
   "file_extension": ".py",
   "mimetype": "text/x-python",
   "name": "python",
   "nbconvert_exporter": "python",
   "pygments_lexer": "ipython3",
   "version": "3.13.1"
  }
 },
 "nbformat": 4,
 "nbformat_minor": 2
}
