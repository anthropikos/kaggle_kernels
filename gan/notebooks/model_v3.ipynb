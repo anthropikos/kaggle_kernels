{
 "cells": [
  {
   "cell_type": "markdown",
   "metadata": {},
   "source": [
    "# Model v3\n",
    "Anthony Lee 2025-01-03\n",
    "\n",
    "Improvement TODO:\n",
    "- Scale input to [-1, 1] range from [0, 255]\n",
    "- Add a tanh at the end of the upsampling stack of the generator\n",
    "- Interested in using a pre-trained UNET as the generator\n"
   ]
  },
  {
   "cell_type": "code",
   "execution_count": null,
   "metadata": {},
   "outputs": [],
   "source": [
    "from gan.gan import CycleGAN, train_one_epoch, checkpoint_save\n",
    "from gan.data import ImageDataset, ImageDataLoader\n",
    "import torch\n",
    "from pprint import pprint\n",
    "from gan.plotting_utility import plot_before_after\n",
    "\n",
    "device = torch.device(\"cuda\") if torch.cuda.is_available() else torch.device(\"cpu\")\n",
    "print( torch.cuda.get_device_properties(device) )\n",
    "\n",
    "\n",
    "monet_dataset = ImageDataset(data_dir=\"../data/gan-getting-started/monet_jpg\")\n",
    "photo_dataset = ImageDataset(data_dir=\"../data/gan-getting-started/photo_jpg\")\n",
    "\n",
    "monet_dataloader = ImageDataLoader(monet_dataset)\n",
    "photo_dataloader = ImageDataLoader(photo_dataset)\n"
   ]
  },
  {
   "cell_type": "code",
   "execution_count": null,
   "metadata": {},
   "outputs": [],
   "source": [
    "model = CycleGAN()\n",
    "optimizer = torch.optim.Adam(model.parameters(), lr=2e-4, betas=(0.5, 0.999))\n",
    "\n",
    "for idx_epoch in range(20):\n",
    "\n",
    "    loss_tracker = train_one_epoch(monet_dataloader=monet_dataloader, \n",
    "                    photo_dataloader=photo_dataloader,\n",
    "                    optimizer=optimizer,\n",
    "                    model=model, \n",
    "                    device=device)\n",
    "    \n",
    "    ## Plot an example image\n",
    "    idx = 20\n",
    "\n",
    "    # Photo to monet\n",
    "    input = photo_dataset[idx]\n",
    "    output = model.generate_monet(input)\n",
    "    fig = plot_before_after(input, output, suptitle=f\"Epoch {idx_epoch}: Photo -> Monet\")\n",
    "    fig.show()\n",
    "\n",
    "    # Monet to photo\n",
    "    input = monet_dataset[idx]\n",
    "    output = model.generate_photo(input)\n",
    "    fig = plot_before_after(input, output, suptitle=f\"Epoch {idx_epoch}: Monet -> Photo\")\n",
    "    fig.show()\n",
    "\n",
    "    ## Checkpoint\n",
    "    _ = checkpoint_save(epoch=idx_epoch, \n",
    "                save_path=\".\", \n",
    "                model=model,\n",
    "                optimizer=optimizer,\n",
    "                loss_tracker=loss_tracker)\n",
    "    "
   ]
  }
 ],
 "metadata": {
  "kernelspec": {
   "display_name": "torch-cuda",
   "language": "python",
   "name": "python3"
  },
  "language_info": {
   "codemirror_mode": {
    "name": "ipython",
    "version": 3
   },
   "file_extension": ".py",
   "mimetype": "text/x-python",
   "name": "python",
   "nbconvert_exporter": "python",
   "pygments_lexer": "ipython3",
   "version": "3.13.1"
  }
 },
 "nbformat": 4,
 "nbformat_minor": 2
}
